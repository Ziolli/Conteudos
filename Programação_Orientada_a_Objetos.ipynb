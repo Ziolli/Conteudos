{
  "cells": [
    {
      "cell_type": "markdown",
      "id": "0be35325",
      "metadata": {
        "id": "0be35325"
      },
      "source": [
        "<img src=\"https://miro.medium.com/v2/resize:fit:1400/1*AvlwegCI3tXfklCiA8TWjw.png\" width = 400>\n",
        "\n",
        "# Programação Orientada a Objetos\n",
        "\n",
        "## O que é POO?\n",
        "A POO, ou Programação Orientada a Objetos, é um paradigma que organiza o código em torno de objetos, entidades que combinam dados e funcionalidades. Em Python, tudo é um objeto, e compreender essa filosofia é fundamental.\n",
        "\n",
        "## Notação & Escopo de variáveis\n",
        "Para mergulhar no mundo da POO, primeiro, devemos compreender a notação utilziada em POO e escopo de variáveis. Em Python, podemos criar diversos objetos a partir de uma classe. A classe será a responsável por criar objetos. Para criarmos uma classe, basta digitar `class NomeDaClasse`. A classe contém variáveis globais e locais, fornecendo uma visão clara de como o escopo e o namespace operam em POO. Essa compreensão é essencial para evitar conflitos de nomes e organizar eficientemente nosso código.\n",
        "\n",
        "Observe o exemplo abaixo:"
      ]
    },
    {
      "cell_type": "code",
      "execution_count": null,
      "id": "053227e1",
      "metadata": {
        "colab": {
          "base_uri": "https://localhost:8080/"
        },
        "id": "053227e1",
        "outputId": "f0604972-2222-4092-92ad-ccf08ade2767"
      },
      "outputs": [
        {
          "output_type": "stream",
          "name": "stdout",
          "text": [
            "Anwar Hermuche\n",
            "Meu barulho é esse: Howay!\n",
            "Anwar Martins\n"
          ]
        }
      ],
      "source": [
        "# Definindo uma variável global\n",
        "variavel_global = \"Anwar Hermuche\"\n",
        "# Criando a classe Animal\n",
        "class Animal:\n",
        "\n",
        "    # Criando uma variável local\n",
        "    variavel_local = \"Anwar Martins\"\n",
        "    # Inicializando o objeto\n",
        "    def __init__(self, nome):\n",
        "        self.nome = nome\n",
        "\n",
        "    # Criando o método \"barulho\" que imprime o barulho feito pelo animal\n",
        "    def barulho(self):\n",
        "        print(\"Meu barulho é esse: Howay!\")\n",
        "\n",
        "# Imprimindo a variável global\n",
        "print(variavel_global)\n",
        "\n",
        "# Inicializando o objeto 'meu_animal'\n",
        "meu_animal = Animal(\"Max\")\n",
        "\n",
        "# Chamando o método barulho\n",
        "meu_animal.barulho()\n",
        "\n",
        "# Imprimindo a variável local\n",
        "print(meu_animal.variavel_local)"
      ]
    },
    {
      "cell_type": "markdown",
      "id": "ec72a6fc",
      "metadata": {
        "id": "ec72a6fc"
      },
      "source": [
        "## Herança\n",
        "Quando uma classe herda de outra, ela adquire os atributos e métodos da classe pai. Isso é valioso porque permite a criação de uma classe mais específica (filha) com base em uma classe mais genérica (pai). Vamos explorar um exemplo prático:"
      ]
    },
    {
      "cell_type": "code",
      "execution_count": null,
      "id": "4b945fee",
      "metadata": {
        "colab": {
          "base_uri": "https://localhost:8080/"
        },
        "id": "4b945fee",
        "outputId": "bf31d0fc-2a13-456c-fe5b-7d21bbbba052"
      },
      "outputs": [
        {
          "output_type": "stream",
          "name": "stdout",
          "text": [
            "Au au!\n"
          ]
        }
      ],
      "source": [
        "# Criando a classe cachorro, que herda as características da classe Animal\n",
        "class Cachorro(Animal):\n",
        "    # Criando o método \"barulho\"\n",
        "    def barulho(self):\n",
        "        print(\"Au au!\")\n",
        "# Inicializando o objeto \"meu_cachorro\"\n",
        "meu_cachorro = Cachorro(\"Max\")\n",
        "\n",
        "# Chamando o método \"barulho\"\n",
        "meu_cachorro.barulho()"
      ]
    },
    {
      "cell_type": "markdown",
      "id": "a0fd92b5",
      "metadata": {
        "id": "a0fd92b5"
      },
      "source": [
        "## Chamando Métodos da Classe Pai\n",
        "O método super() é uma função incorporada em Python que fornece uma maneira de chamar métodos da classe pai. Ele é frequentemente usado no método __init__ da classe filha para garantir que as inicializações necessárias da classe pai sejam executadas. Vamos ver um exemplo:"
      ]
    },
    {
      "cell_type": "code",
      "execution_count": null,
      "id": "21c86263",
      "metadata": {
        "colab": {
          "base_uri": "https://localhost:8080/"
        },
        "id": "21c86263",
        "outputId": "10f2b231-8161-41ba-b853-617d1fcf1ec6"
      },
      "outputs": [
        {
          "output_type": "stream",
          "name": "stdout",
          "text": [
            "Meu nome: Anwar\n",
            "Minha idade: 20\n",
            "Minha matrícula: 9898\n"
          ]
        }
      ],
      "source": [
        "# Criando uma classe Pessoa\n",
        "class Pessoa:\n",
        "\n",
        "    # Inicializando nome e idade\n",
        "    def __init__(self, nome, idade):\n",
        "        self.nome = nome\n",
        "        self.idade = idade\n",
        "# Classe Estudante que herda a classe Pessoa\n",
        "class Estudante(Pessoa):\n",
        "\n",
        "    # Inicializando nome, idade e matricula\n",
        "    def __init__(self, nome, idade, matricula):\n",
        "        super().__init__(nome, idade)\n",
        "        self.matricula = matricula\n",
        "\n",
        "# Criando instância\n",
        "eu = Estudante(\"Anwar\", 20, 9898)\n",
        "print(f\"Meu nome: {eu.nome}\")\n",
        "print(f\"Minha idade: {eu.idade}\")\n",
        "print(f\"Minha matrícula: {eu.matricula}\")"
      ]
    },
    {
      "cell_type": "markdown",
      "id": "265706d4",
      "metadata": {
        "id": "265706d4"
      },
      "source": [
        "Aqui, super().__init__(nome, idade) chama o método __init__ da classe pai (Pessoa), garantindo que os atributos nome e idade sejam inicializados corretamente. Essa prática é essencial para manter a consistência e evitar redundâncias.\n",
        "\n",
        "## Polimorfismo\n",
        "Polimorfismo é um princípio da POO que permite que objetos de diferentes classes sejam tratados como objetos de uma mesma classe. Isso é conseguido através da herança e da sobreposição (override) de métodos. Em Python, não precisamos declarar interfaces ou tipos explícitos, o que torna o polimorfismo naturalmente mais flexível."
      ]
    },
    {
      "cell_type": "code",
      "execution_count": null,
      "id": "47bd9ed9",
      "metadata": {
        "colab": {
          "base_uri": "https://localhost:8080/"
        },
        "id": "47bd9ed9",
        "outputId": "4ec956a8-81ed-4993-88f7-93365af7c41e"
      },
      "outputs": [
        {
          "output_type": "stream",
          "name": "stdout",
          "text": [
            "Miau!\n",
            "Au au!\n"
          ]
        }
      ],
      "source": [
        "# Criando a classe Animal\n",
        "class Animal:\n",
        "    # Definindo o método emitir_som\n",
        "    def emitir_som(self):\n",
        "        pass\n",
        "\n",
        "\n",
        "# Classe Cachorro que herda de Animal\n",
        "class Cachorro(Animal):\n",
        "    # Definindo o método emitir_som\n",
        "    def emitir_som(self):\n",
        "        print(\"Au au!\")\n",
        "\n",
        "\n",
        "# Classe Gato que herda de Animal\n",
        "class Gato(Animal):\n",
        "    # Definindo o método emitir_som\n",
        "    def emitir_som(self):\n",
        "        print(\"Miau!\")\n",
        "\n",
        "\n",
        "# Criando instâncias e demonstrando polimorfismo\n",
        "gato = Gato()\n",
        "cachorro = Cachorro()\n",
        "\n",
        "gato.emitir_som()\n",
        "cachorro.emitir_som()"
      ]
    },
    {
      "cell_type": "code",
      "execution_count": null,
      "id": "0b9fad67",
      "metadata": {
        "colab": {
          "base_uri": "https://localhost:8080/"
        },
        "id": "0b9fad67",
        "outputId": "b262bd96-f310-4cd7-c010-b5d54f89761b"
      },
      "outputs": [
        {
          "output_type": "stream",
          "name": "stdout",
          "text": [
            "Saldo atualizado: 1200\n"
          ]
        }
      ],
      "source": [
        "class ContaBancaria:\n",
        "    def __init__(self, saldo_inicial):\n",
        "        self.__saldo = saldo_inicial  # Atributo privado\n",
        "\n",
        "    def depositar(self, valor):\n",
        "        if valor > 0:\n",
        "            self.__saldo += valor\n",
        "            print(f\"Saldo atualizado: {self.__saldo}\")\n",
        "\n",
        "# Exemplo de uso\n",
        "conta = ContaBancaria(1000)\n",
        "conta.depositar(200)"
      ]
    },
    {
      "cell_type": "code",
      "execution_count": null,
      "id": "a78b0435",
      "metadata": {
        "colab": {
          "base_uri": "https://localhost:8080/",
          "height": 147
        },
        "id": "a78b0435",
        "outputId": "bb1afcfb-917c-495e-b319-b16d4853f576"
      },
      "outputs": [
        {
          "output_type": "error",
          "ename": "AttributeError",
          "evalue": "'ContaBancaria' object has no attribute '__saldo'",
          "traceback": [
            "\u001b[0;31m---------------------------------------------------------------------------\u001b[0m",
            "\u001b[0;31mAttributeError\u001b[0m                            Traceback (most recent call last)",
            "\u001b[0;32m<ipython-input-8-5721f680842c>\u001b[0m in \u001b[0;36m<cell line: 1>\u001b[0;34m()\u001b[0m\n\u001b[0;32m----> 1\u001b[0;31m \u001b[0mconta\u001b[0m\u001b[0;34m.\u001b[0m\u001b[0m__saldo\u001b[0m\u001b[0;34m\u001b[0m\u001b[0;34m\u001b[0m\u001b[0m\n\u001b[0m",
            "\u001b[0;31mAttributeError\u001b[0m: 'ContaBancaria' object has no attribute '__saldo'"
          ]
        }
      ],
      "source": [
        "conta.__saldo"
      ]
    },
    {
      "cell_type": "markdown",
      "id": "466eb4cd",
      "metadata": {
        "id": "466eb4cd"
      },
      "source": [
        "## Encapsulamento\n",
        "O encapsulamento é a prática de esconder os detalhes internos do funcionamento de uma classe e expor apenas o que é seguro e necessário ao usuário da classe. Isso é feito através do uso de métodos e atributos privados e protegidos."
      ]
    },
    {
      "cell_type": "code",
      "execution_count": null,
      "id": "b5a8336b",
      "metadata": {
        "colab": {
          "base_uri": "https://localhost:8080/"
        },
        "id": "b5a8336b",
        "outputId": "f138199b-c8e7-4844-e345-5097185a9bb3"
      },
      "outputs": [
        {
          "output_type": "stream",
          "name": "stdout",
          "text": [
            "Meu saldo é: 150\n"
          ]
        }
      ],
      "source": [
        "# Criando a classe ContaBancaria\n",
        "class ContaBancaria:\n",
        "    # Inicializando com o saldo_inicial (privado - utiliza o '__' antes do nome)\n",
        "    def __init__(self, saldo_inicial):\n",
        "        self.__saldo = saldo_inicial\n",
        "\n",
        "\n",
        "    # Método depositar para adicionar dinheiro\n",
        "    def depositar(self, valor):\n",
        "        # Verificando se o valor é maior que zero\n",
        "        if valor > 0:\n",
        "            # Atualiza o saldo se o valor for positivo\n",
        "            self.__saldo += valor\n",
        "\n",
        "    # Método ver_saldo para visualizar o saldo\n",
        "    def ver_saldo(self):\n",
        "        print(f\"Meu saldo é: {self.__saldo}\")\n",
        "\n",
        "\n",
        "# Criando uma instância de ContaBancaria com 100 reais\n",
        "conta = ContaBancaria(100)\n",
        "\n",
        "# Depositando 50 reais\n",
        "conta.depositar(50)\n",
        "\n",
        "# Exibindo o saldo\n",
        "conta.ver_saldo()"
      ]
    },
    {
      "cell_type": "markdown",
      "id": "6da28fa3",
      "metadata": {
        "id": "6da28fa3"
      },
      "source": [
        "## Composição\n",
        "A composição é uma alternativa à herança, onde uma classe é construída usando outras classes. Ela é usada para representar relacionamentos do tipo \"tem-um\". Isso significa que uma classe pode conter uma ou mais instâncias de outras classes como parte de sua estrutura."
      ]
    },
    {
      "cell_type": "code",
      "execution_count": null,
      "id": "ada2dab9",
      "metadata": {
        "colab": {
          "base_uri": "https://localhost:8080/"
        },
        "id": "ada2dab9",
        "outputId": "c1f88e07-d46d-4fbb-e866-ec07b0559a8f"
      },
      "outputs": [
        {
          "output_type": "stream",
          "name": "stdout",
          "text": [
            "O meu carro é da marca Toyota e tem uma potencia igual a 120\n"
          ]
        }
      ],
      "source": [
        "# Criando a classe Motor\n",
        "class Motor:\n",
        "    # Inicializando a classe com a potencia\n",
        "    def __init__(self, potencia):\n",
        "        self.potencia = potencia\n",
        "\n",
        "\n",
        "# Criando a classe Carro\n",
        "class Carro:\n",
        "    # Inicializando com a marca e o motor\n",
        "    def __init__(self, marca, motor):\n",
        "        self.marca = marca\n",
        "        self.motor = motor\n",
        "\n",
        "# Criando um Motor com 120 de potencia\n",
        "motor = Motor(120)\n",
        "\n",
        "# Criando um Carro Toyota com o motor criado\n",
        "carro = Carro(\"Toyota\", motor)\n",
        "\n",
        "# Exibindo informações do carro\n",
        "print(f\"O meu carro é da marca {carro.marca} e tem uma potencia igual a {carro.motor.potencia}\")"
      ]
    },
    {
      "cell_type": "markdown",
      "id": "0179d61a",
      "metadata": {
        "id": "0179d61a"
      },
      "source": [
        "# Exercícios\n",
        "Chegou a hora de colocar seus conhecimentos em prática!\n",
        "\n",
        "## Exercício 063\n",
        "Crie um programa que modele um animal de estimação:\n",
        "- Desenvolva uma classe chamada AnimalDeEstimacao. A classe deve ter os atributos nome, especie e idade.\n",
        "- Implemente métodos para permitir que o animal de estimação emita um som e se movimente.\n",
        "- Crie uma instância da classe e demonstre o uso de seus métodos."
      ]
    },
    {
      "cell_type": "code",
      "execution_count": null,
      "id": "38cb0310",
      "metadata": {
        "colab": {
          "base_uri": "https://localhost:8080/"
        },
        "id": "38cb0310",
        "outputId": "644f365b-530a-4277-e1c2-102f96613b62"
      },
      "outputs": [
        {
          "output_type": "stream",
          "name": "stdout",
          "text": [
            "o meu nome é Sergio, espécie Hominideo e tenho 19 e faço o som Auuuu\n"
          ]
        }
      ],
      "source": [
        "class AnimalDeEstimacao:\n",
        "  def __init__(self,nome,especie,idade):\n",
        "    self.nome = nome\n",
        "    self.especie = especie\n",
        "    self.idade = idade\n",
        "  def emitir_som(self):\n",
        "    return \"Auuuu\"\n",
        "\n",
        "animal_teste = AnimalDeEstimacao(\"Sergio\",\"Hominideo\",19)\n",
        "print(f\"o meu nome é {animal_teste.nome}, espécie {animal_teste.especie} e tenho {animal_teste.idade} e faço o som {animal_teste.emitir_som()}\")"
      ]
    },
    {
      "cell_type": "markdown",
      "id": "7cafaff2",
      "metadata": {
        "id": "7cafaff2"
      },
      "source": [
        "## Exercício 064\n",
        "Desenvolva um sistema que gerencie produtos em um estoque:\n",
        "\n",
        "- Implemente uma classe Produto com atributos como nome, preço e quantidade_em_estoque.\n",
        "- Crie métodos para adicionar e remover produtos do estoque.\n",
        "- Faça um pequeno programa que crie várias instâncias de Produto e demonstre a gestão do estoque."
      ]
    },
    {
      "cell_type": "code",
      "source": [
        "class Produto():\n",
        "  def __init__(self,nome,preco,quantidade_em_estoque):\n",
        "    self.nome = nome\n",
        "    self.preco = preco\n",
        "    self.quantidade_em_estoque = quantidade_em_estoque\n",
        "  def add(self,quantidade_em_estoque):\n",
        "    self.quantidade_em_estoque += quantidade_em_estoque\n",
        "  def remove(self,quantidade_em_estoque):\n",
        "    self.quantidade_em_estoque -= quantidade_em_estoque\n",
        "\n",
        "sabonete = Produto(\"Sabonete\", 5 , 12)\n",
        "armario = Produto(\"Armario\",290,10)\n",
        "\n",
        "sabonete.add(3)\n",
        "sabonete.remove(10)\n",
        "sabonete.quantidade_em_estoque"
      ],
      "metadata": {
        "colab": {
          "base_uri": "https://localhost:8080/"
        },
        "id": "6tKXAxcLaxFx",
        "outputId": "05a32514-d719-4ed7-bcb6-bfacddb21b32"
      },
      "id": "6tKXAxcLaxFx",
      "execution_count": null,
      "outputs": [
        {
          "output_type": "execute_result",
          "data": {
            "text/plain": [
              "5"
            ]
          },
          "metadata": {},
          "execution_count": 38
        }
      ]
    },
    {
      "cell_type": "markdown",
      "id": "87bb12eb",
      "metadata": {
        "id": "87bb12eb"
      },
      "source": [
        "## Exercício 065\n",
        "Crie um programa que simule um sistema bancário:\n",
        "\n",
        "- Desenvolva uma classe ContaBancaria com atributos como numero_da_conta, titular e saldo.\n",
        "- Implemente métodos para depositar, sacar e transferir dinheiro entre contas.\n",
        "- Crie um pequeno sistema que permita criar novas contas e realizar operações bancárias entre elas."
      ]
    },
    {
      "cell_type": "code",
      "execution_count": null,
      "id": "884cd7d7",
      "metadata": {
        "id": "884cd7d7"
      },
      "outputs": [],
      "source": [
        "class ContaBancaria:\n",
        "  def __init__(self,num_conta, titular, saldo):\n",
        "    self.num_conta = num_conta\n",
        "    self.titular = titular\n",
        "    self.saldo = saldo\n",
        "\n",
        "  def depositar(self,valor):\n",
        "    if valor > 0 :\n",
        "      self.saldo += valor\n",
        "    else:\n",
        "      print(\"Digite um valor válido \")\n",
        "\n",
        "  def sacar(self,valor):\n",
        "    if valor > 0:\n",
        "      self.saldo -= valor\n",
        "    else:\n",
        "      print(\"Digite um valor válido \")\n",
        "\n",
        "  def transferir(self,conta,valor):\n",
        "    if self.saldo >= valor:\n",
        "      conta.saldo += valor\n",
        "      self.saldo -= valor"
      ]
    },
    {
      "cell_type": "code",
      "source": [
        "conta_math = ContaBancaria(1,\"Matheus\",250)\n",
        "conta_naty = ContaBancaria(2,\"Natália\",300)"
      ],
      "metadata": {
        "id": "QesCWD1LeqwN"
      },
      "id": "QesCWD1LeqwN",
      "execution_count": null,
      "outputs": []
    },
    {
      "cell_type": "code",
      "source": [
        "conta_naty.depositar(500)\n",
        "conta_naty.saldo"
      ],
      "metadata": {
        "colab": {
          "base_uri": "https://localhost:8080/"
        },
        "id": "mBxlLvGMgIOP",
        "outputId": "bd6a76a7-e7f0-43b7-aa51-3a54f7faf723"
      },
      "id": "mBxlLvGMgIOP",
      "execution_count": null,
      "outputs": [
        {
          "output_type": "execute_result",
          "data": {
            "text/plain": [
              "800"
            ]
          },
          "metadata": {},
          "execution_count": 87
        }
      ]
    },
    {
      "cell_type": "code",
      "source": [
        "conta_math.sacar(50)\n",
        "conta_math.saldo"
      ],
      "metadata": {
        "colab": {
          "base_uri": "https://localhost:8080/"
        },
        "id": "CgOjYpLHgLjn",
        "outputId": "12954a4d-6735-4208-c8f1-13a84edf82b2"
      },
      "id": "CgOjYpLHgLjn",
      "execution_count": null,
      "outputs": [
        {
          "output_type": "execute_result",
          "data": {
            "text/plain": [
              "200"
            ]
          },
          "metadata": {},
          "execution_count": 88
        }
      ]
    },
    {
      "cell_type": "code",
      "source": [
        "conta_naty.transferir(conta_math,200)"
      ],
      "metadata": {
        "id": "av-BgRiGgMwm"
      },
      "id": "av-BgRiGgMwm",
      "execution_count": null,
      "outputs": []
    },
    {
      "cell_type": "code",
      "source": [
        "conta_naty.saldo, conta_math.saldo\n"
      ],
      "metadata": {
        "colab": {
          "base_uri": "https://localhost:8080/"
        },
        "id": "iUX6fMf3gi_u",
        "outputId": "d4d2d0ad-7e60-4d03-daab-16c4def49012"
      },
      "id": "iUX6fMf3gi_u",
      "execution_count": null,
      "outputs": [
        {
          "output_type": "execute_result",
          "data": {
            "text/plain": [
              "(200, 800)"
            ]
          },
          "metadata": {},
          "execution_count": 94
        }
      ]
    },
    {
      "cell_type": "code",
      "source": [],
      "metadata": {
        "id": "u8yCNrPgh8n9"
      },
      "id": "u8yCNrPgh8n9",
      "execution_count": null,
      "outputs": []
    }
  ],
  "metadata": {
    "kernelspec": {
      "display_name": "Python 3 (ipykernel)",
      "language": "python",
      "name": "python3"
    },
    "language_info": {
      "codemirror_mode": {
        "name": "ipython",
        "version": 3
      },
      "file_extension": ".py",
      "mimetype": "text/x-python",
      "name": "python",
      "nbconvert_exporter": "python",
      "pygments_lexer": "ipython3",
      "version": "3.11.5"
    },
    "colab": {
      "provenance": []
    }
  },
  "nbformat": 4,
  "nbformat_minor": 5
}